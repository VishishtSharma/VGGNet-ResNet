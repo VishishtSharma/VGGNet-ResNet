{
 "cells": [
  {
   "cell_type": "markdown",
   "metadata": {
    "colab_type": "text",
    "id": "MkoGLH_Tj5wn"
   },
   "source": [
    "## Imports"
   ]
  },
  {
   "cell_type": "code",
   "execution_count": 1,
   "metadata": {
    "colab": {
     "autoexec": {
      "startup": false,
      "wait_interval": 0
     }
    },
    "colab_type": "code",
    "id": "ORj09gnrj5wp"
   },
   "outputs": [],
   "source": [
    "import time\n",
    "import numpy as np\n",
    "import torch\n",
    "import matplotlib.pyplot as plt\n",
    "import torch.nn as nn\n",
    "import torch.nn.functional as F\n",
    "from torchvision import datasets\n",
    "from torchvision import transforms\n",
    "from torch.utils.data import DataLoader\n",
    "\n",
    "\n",
    "if torch.cuda.is_available():\n",
    "    torch.backends.cudnn.deterministic = True"
   ]
  },
  {
   "cell_type": "markdown",
   "metadata": {
    "colab_type": "text",
    "id": "PvgJ_0i7j5wt"
   },
   "source": [
    "## Settings and Dataset"
   ]
  },
  {
   "cell_type": "code",
   "execution_count": 2,
   "metadata": {
    "colab": {
     "autoexec": {
      "startup": false,
      "wait_interval": 0
     },
     "base_uri": "https://localhost:8080/",
     "height": 85
    },
    "colab_type": "code",
    "executionInfo": {
     "elapsed": 23936,
     "status": "ok",
     "timestamp": 1524974497505,
     "user": {
      "displayName": "Sebastian Raschka",
      "photoUrl": "//lh6.googleusercontent.com/-cxK6yOSQ6uE/AAAAAAAAAAI/AAAAAAAAIfw/P9ar_CHsKOQ/s50-c-k-no/photo.jpg",
      "userId": "118404394130788869227"
     },
     "user_tz": 240
    },
    "id": "NnT0sZIwj5wu",
    "outputId": "55aed925-d17e-4c6a-8c71-0d9b3bde5637"
   },
   "outputs": [
    {
     "name": "stdout",
     "output_type": "stream",
     "text": [
      "Device: cuda:0\n",
      "Files already downloaded and verified\n",
      "Image batch dimensions: torch.Size([128, 3, 32, 32])\n",
      "Image label dimensions: torch.Size([128])\n"
     ]
    }
   ],
   "source": [
    "##########################\n",
    "### SETTINGS\n",
    "##########################\n",
    "\n",
    "# Device\n",
    "DEVICE = torch.device(\"cuda:0\" if torch.cuda.is_available() else \"cpu\")\n",
    "print('Device:', DEVICE)\n",
    "\n",
    "# Hyperparameters\n",
    "random_seed = 1\n",
    "learning_rate = 0.0005\n",
    "num_epochs = 10\n",
    "batch_size = 128\n",
    "\n",
    "# Architecture\n",
    "num_features = 784\n",
    "num_classes = 10\n",
    "\n",
    "\n",
    "##########################\n",
    "### MNIST DATASET\n",
    "##########################\n",
    "\n",
    "# Note transforms.ToTensor() scales input images\n",
    "# to 0-1 range\n",
    "train_dataset = datasets.CIFAR10(root='data', \n",
    "                                 train=True, \n",
    "                                 transform=transforms.ToTensor(),\n",
    "                                 download=True)\n",
    "\n",
    "test_dataset = datasets.CIFAR10(root='data', \n",
    "                                train=False, \n",
    "                                transform=transforms.ToTensor())\n",
    "\n",
    "\n",
    "train_loader = DataLoader(dataset=train_dataset, \n",
    "                          batch_size=batch_size, \n",
    "                          shuffle=True)\n",
    "\n",
    "test_loader = DataLoader(dataset=test_dataset, \n",
    "                         batch_size=batch_size, \n",
    "                         shuffle=False)\n",
    "\n",
    "# Checking the dataset\n",
    "for images, labels in train_loader:  \n",
    "    print('Image batch dimensions:', images.shape)\n",
    "    print('Image label dimensions:', labels.shape)\n",
    "    break"
   ]
  },
  {
   "cell_type": "markdown",
   "metadata": {
    "colab_type": "text",
    "id": "I6hghKPxj5w0"
   },
   "source": [
    "## Model"
   ]
  },
  {
   "cell_type": "code",
   "execution_count": 3,
   "metadata": {
    "colab": {
     "autoexec": {
      "startup": false,
      "wait_interval": 0
     }
    },
    "colab_type": "code",
    "id": "_lza9t_uj5w1"
   },
   "outputs": [],
   "source": [
    "##########################\n",
    "### MODEL\n",
    "##########################\n",
    "\n",
    "\n",
    "class VGG16(torch.nn.Module):\n",
    "\n",
    "    def __init__(self, num_features, num_classes):\n",
    "        super(VGG16, self).__init__()\n",
    "        \n",
    "        # calculate same padding:\n",
    "        # (w - k + 2*p)/s + 1 = o\n",
    "        # => p = (s(o-1) - w + k)/2\n",
    "        \n",
    "        self.block_1 = nn.Sequential(\n",
    "                nn.Conv2d(in_channels=3,\n",
    "                          out_channels=64,\n",
    "                          kernel_size=(3, 3),\n",
    "                          stride=(1, 1),\n",
    "                          # (1(32-1)- 32 + 3)/2 = 1\n",
    "                          padding=1), \n",
    "                nn.ReLU(),\n",
    "                nn.Conv2d(in_channels=64,\n",
    "                          out_channels=64,\n",
    "                          kernel_size=(3, 3),\n",
    "                          stride=(1, 1),\n",
    "                          padding=1),\n",
    "                nn.ReLU(),\n",
    "                nn.MaxPool2d(kernel_size=(2, 2),\n",
    "                             stride=(2, 2))\n",
    "        )\n",
    "        \n",
    "        self.block_2 = nn.Sequential(\n",
    "                nn.Conv2d(in_channels=64,\n",
    "                          out_channels=128,\n",
    "                          kernel_size=(3, 3),\n",
    "                          stride=(1, 1),\n",
    "                          padding=1),\n",
    "                nn.ReLU(),\n",
    "                nn.Conv2d(in_channels=128,\n",
    "                          out_channels=128,\n",
    "                          kernel_size=(3, 3),\n",
    "                          stride=(1, 1),\n",
    "                          padding=1),\n",
    "                nn.ReLU(),\n",
    "                nn.MaxPool2d(kernel_size=(2, 2),\n",
    "                             stride=(2, 2))\n",
    "        )\n",
    "        \n",
    "        self.block_3 = nn.Sequential(        \n",
    "                nn.Conv2d(in_channels=128,\n",
    "                          out_channels=256,\n",
    "                          kernel_size=(3, 3),\n",
    "                          stride=(1, 1),\n",
    "                          padding=1),\n",
    "                nn.ReLU(),\n",
    "                nn.Conv2d(in_channels=256,\n",
    "                          out_channels=256,\n",
    "                          kernel_size=(3, 3),\n",
    "                          stride=(1, 1),\n",
    "                          padding=1),\n",
    "                nn.ReLU(),        \n",
    "                nn.Conv2d(in_channels=256,\n",
    "                          out_channels=256,\n",
    "                          kernel_size=(3, 3),\n",
    "                          stride=(1, 1),\n",
    "                          padding=1),\n",
    "                nn.ReLU(),\n",
    "                nn.MaxPool2d(kernel_size=(2, 2),\n",
    "                             stride=(2, 2))\n",
    "        )\n",
    "        \n",
    "          \n",
    "        self.block_4 = nn.Sequential(   \n",
    "                nn.Conv2d(in_channels=256,\n",
    "                          out_channels=512,\n",
    "                          kernel_size=(3, 3),\n",
    "                          stride=(1, 1),\n",
    "                          padding=1),\n",
    "                nn.ReLU(),        \n",
    "                nn.Conv2d(in_channels=512,\n",
    "                          out_channels=512,\n",
    "                          kernel_size=(3, 3),\n",
    "                          stride=(1, 1),\n",
    "                          padding=1),\n",
    "                nn.ReLU(),        \n",
    "                nn.Conv2d(in_channels=512,\n",
    "                          out_channels=512,\n",
    "                          kernel_size=(3, 3),\n",
    "                          stride=(1, 1),\n",
    "                          padding=1),\n",
    "                nn.ReLU(),            \n",
    "                nn.MaxPool2d(kernel_size=(2, 2),\n",
    "                             stride=(2, 2))\n",
    "        )\n",
    "        \n",
    "        self.block_5 = nn.Sequential(\n",
    "                nn.Conv2d(in_channels=512,\n",
    "                          out_channels=512,\n",
    "                          kernel_size=(3, 3),\n",
    "                          stride=(1, 1),\n",
    "                          padding=1),\n",
    "                nn.ReLU(),            \n",
    "                nn.Conv2d(in_channels=512,\n",
    "                          out_channels=512,\n",
    "                          kernel_size=(3, 3),\n",
    "                          stride=(1, 1),\n",
    "                          padding=1),\n",
    "                nn.ReLU(),            \n",
    "                nn.Conv2d(in_channels=512,\n",
    "                          out_channels=512,\n",
    "                          kernel_size=(3, 3),\n",
    "                          stride=(1, 1),\n",
    "                          padding=1),\n",
    "                nn.ReLU(),    \n",
    "                nn.MaxPool2d(kernel_size=(2, 2),\n",
    "                             stride=(2, 2))             \n",
    "        )\n",
    "            \n",
    "        self.classifier = nn.Sequential(\n",
    "            nn.Linear(512, 4096),\n",
    "            nn.ReLU(True),\n",
    "            nn.Dropout(p=0.5),\n",
    "            nn.Linear(4096, 4096),\n",
    "            nn.ReLU(True),\n",
    "            # nn.Dropout(p=0.5),\n",
    "            nn.Linear(4096, num_classes),\n",
    "        )\n",
    "            \n",
    "        for m in self.modules():\n",
    "            if isinstance(m, torch.nn.Conv2d) or isinstance(m, torch.nn.Linear):\n",
    "                nn.init.kaiming_uniform_(m.weight, mode='fan_in', nonlinearity='relu')\n",
    "                if m.bias is not None:\n",
    "                    m.bias.detach().zero_()\n",
    "                    \n",
    "        #self.avgpool = nn.AdaptiveAvgPool2d((7, 7))\n",
    "        \n",
    "        \n",
    "    def forward(self, x):\n",
    "\n",
    "        x = self.block_1(x)\n",
    "        x = self.block_2(x)\n",
    "        x = self.block_3(x)\n",
    "        x = self.block_4(x)\n",
    "        x = self.block_5(x)\n",
    "        #x = self.avgpool(x)\n",
    "        x = x.view(x.size(0), -1)\n",
    "        logits = self.classifier(x)\n",
    "        probas = F.softmax(logits, dim=1)\n",
    "\n",
    "        return logits, probas\n",
    "\n",
    "    \n",
    "torch.manual_seed(random_seed)\n",
    "model = VGG16(num_features=num_features,\n",
    "              num_classes=num_classes)\n",
    "\n",
    "model = model.to(DEVICE)\n",
    "optimizer = torch.optim.Adam(model.parameters(), lr=learning_rate)  "
   ]
  },
  {
   "cell_type": "markdown",
   "metadata": {
    "colab_type": "text",
    "id": "RAodboScj5w6"
   },
   "source": [
    "## Training"
   ]
  },
  {
   "cell_type": "code",
   "execution_count": 4,
   "metadata": {
    "colab": {
     "autoexec": {
      "startup": false,
      "wait_interval": 0
     },
     "base_uri": "https://localhost:8080/",
     "height": 1547
    },
    "colab_type": "code",
    "executionInfo": {
     "elapsed": 2384585,
     "status": "ok",
     "timestamp": 1524976888520,
     "user": {
      "displayName": "Sebastian Raschka",
      "photoUrl": "//lh6.googleusercontent.com/-cxK6yOSQ6uE/AAAAAAAAAAI/AAAAAAAAIfw/P9ar_CHsKOQ/s50-c-k-no/photo.jpg",
      "userId": "118404394130788869227"
     },
     "user_tz": 240
    },
    "id": "Dzh3ROmRj5w7",
    "outputId": "5f8fd8c9-b076-403a-b0b7-fd2d498b48d7"
   },
   "outputs": [
    {
     "name": "stdout",
     "output_type": "stream",
     "text": [
      "Epoch: 001/010 | Batch 0000/0391 | Cost: 2.4237\n",
      "Epoch: 001/010 | Batch 0050/0391 | Cost: 2.2978\n",
      "Epoch: 001/010 | Batch 0100/0391 | Cost: 2.1891\n",
      "Epoch: 001/010 | Batch 0150/0391 | Cost: 2.0122\n",
      "Epoch: 001/010 | Batch 0200/0391 | Cost: 1.8017\n",
      "Epoch: 001/010 | Batch 0250/0391 | Cost: 1.7951\n",
      "Epoch: 001/010 | Batch 0300/0391 | Cost: 1.7141\n",
      "Epoch: 001/010 | Batch 0350/0391 | Cost: 1.7591\n",
      "Epoch: 001/010 | Train: 35.866% |  Loss: 1.639\n",
      "Time elapsed: 2.14 min\n",
      "Epoch: 002/010 | Batch 0000/0391 | Cost: 1.8029\n",
      "Epoch: 002/010 | Batch 0050/0391 | Cost: 1.6237\n",
      "Epoch: 002/010 | Batch 0100/0391 | Cost: 1.4630\n",
      "Epoch: 002/010 | Batch 0150/0391 | Cost: 1.6373\n",
      "Epoch: 002/010 | Batch 0200/0391 | Cost: 1.2643\n",
      "Epoch: 002/010 | Batch 0250/0391 | Cost: 1.2189\n",
      "Epoch: 002/010 | Batch 0300/0391 | Cost: 1.2197\n",
      "Epoch: 002/010 | Batch 0350/0391 | Cost: 1.3556\n",
      "Epoch: 002/010 | Train: 56.868% |  Loss: 1.197\n",
      "Time elapsed: 4.23 min\n",
      "Epoch: 003/010 | Batch 0000/0391 | Cost: 1.2088\n",
      "Epoch: 003/010 | Batch 0050/0391 | Cost: 1.0650\n",
      "Epoch: 003/010 | Batch 0100/0391 | Cost: 1.1130\n",
      "Epoch: 003/010 | Batch 0150/0391 | Cost: 1.1491\n",
      "Epoch: 003/010 | Batch 0200/0391 | Cost: 1.1072\n",
      "Epoch: 003/010 | Batch 0250/0391 | Cost: 0.9189\n",
      "Epoch: 003/010 | Batch 0300/0391 | Cost: 0.8766\n",
      "Epoch: 003/010 | Batch 0350/0391 | Cost: 1.0248\n",
      "Epoch: 003/010 | Train: 69.260% |  Loss: 0.874\n",
      "Time elapsed: 6.28 min\n",
      "Epoch: 004/010 | Batch 0000/0391 | Cost: 0.7193\n",
      "Epoch: 004/010 | Batch 0050/0391 | Cost: 0.7759\n",
      "Epoch: 004/010 | Batch 0100/0391 | Cost: 0.9275\n",
      "Epoch: 004/010 | Batch 0150/0391 | Cost: 0.6890\n",
      "Epoch: 004/010 | Batch 0200/0391 | Cost: 0.9954\n",
      "Epoch: 004/010 | Batch 0250/0391 | Cost: 0.8490\n",
      "Epoch: 004/010 | Batch 0300/0391 | Cost: 0.8324\n",
      "Epoch: 004/010 | Batch 0350/0391 | Cost: 0.7067\n",
      "Epoch: 004/010 | Train: 74.088% |  Loss: 0.739\n",
      "Time elapsed: 8.39 min\n",
      "Epoch: 005/010 | Batch 0000/0391 | Cost: 0.7045\n",
      "Epoch: 005/010 | Batch 0050/0391 | Cost: 0.6648\n",
      "Epoch: 005/010 | Batch 0100/0391 | Cost: 0.6821\n",
      "Epoch: 005/010 | Batch 0150/0391 | Cost: 0.6099\n",
      "Epoch: 005/010 | Batch 0200/0391 | Cost: 0.7872\n",
      "Epoch: 005/010 | Batch 0250/0391 | Cost: 0.5342\n",
      "Epoch: 005/010 | Batch 0300/0391 | Cost: 0.6735\n",
      "Epoch: 005/010 | Batch 0350/0391 | Cost: 0.6326\n",
      "Epoch: 005/010 | Train: 81.414% |  Loss: 0.541\n",
      "Time elapsed: 10.45 min\n",
      "Epoch: 006/010 | Batch 0000/0391 | Cost: 0.4644\n",
      "Epoch: 006/010 | Batch 0050/0391 | Cost: 0.6519\n",
      "Epoch: 006/010 | Batch 0100/0391 | Cost: 0.6137\n",
      "Epoch: 006/010 | Batch 0150/0391 | Cost: 0.6819\n",
      "Epoch: 006/010 | Batch 0200/0391 | Cost: 0.5032\n",
      "Epoch: 006/010 | Batch 0250/0391 | Cost: 0.5229\n",
      "Epoch: 006/010 | Batch 0300/0391 | Cost: 0.5868\n",
      "Epoch: 006/010 | Batch 0350/0391 | Cost: 0.3765\n",
      "Epoch: 006/010 | Train: 85.436% |  Loss: 0.437\n",
      "Time elapsed: 12.52 min\n",
      "Epoch: 007/010 | Batch 0000/0391 | Cost: 0.4729\n",
      "Epoch: 007/010 | Batch 0050/0391 | Cost: 0.4773\n",
      "Epoch: 007/010 | Batch 0100/0391 | Cost: 0.4090\n",
      "Epoch: 007/010 | Batch 0150/0391 | Cost: 0.2914\n",
      "Epoch: 007/010 | Batch 0200/0391 | Cost: 0.4580\n",
      "Epoch: 007/010 | Batch 0250/0391 | Cost: 0.5633\n",
      "Epoch: 007/010 | Batch 0300/0391 | Cost: 0.4288\n",
      "Epoch: 007/010 | Batch 0350/0391 | Cost: 0.3289\n",
      "Epoch: 007/010 | Train: 88.652% |  Loss: 0.339\n",
      "Time elapsed: 14.58 min\n",
      "Epoch: 008/010 | Batch 0000/0391 | Cost: 0.2970\n",
      "Epoch: 008/010 | Batch 0050/0391 | Cost: 0.3300\n",
      "Epoch: 008/010 | Batch 0100/0391 | Cost: 0.4374\n",
      "Epoch: 008/010 | Batch 0150/0391 | Cost: 0.3447\n",
      "Epoch: 008/010 | Batch 0200/0391 | Cost: 0.2952\n",
      "Epoch: 008/010 | Batch 0250/0391 | Cost: 0.3878\n",
      "Epoch: 008/010 | Batch 0300/0391 | Cost: 0.3153\n",
      "Epoch: 008/010 | Batch 0350/0391 | Cost: 0.4105\n",
      "Epoch: 008/010 | Train: 91.218% |  Loss: 0.267\n",
      "Time elapsed: 16.65 min\n",
      "Epoch: 009/010 | Batch 0000/0391 | Cost: 0.2826\n",
      "Epoch: 009/010 | Batch 0050/0391 | Cost: 0.3346\n",
      "Epoch: 009/010 | Batch 0100/0391 | Cost: 0.3443\n",
      "Epoch: 009/010 | Batch 0150/0391 | Cost: 0.2392\n",
      "Epoch: 009/010 | Batch 0200/0391 | Cost: 0.2117\n",
      "Epoch: 009/010 | Batch 0250/0391 | Cost: 0.3469\n",
      "Epoch: 009/010 | Batch 0300/0391 | Cost: 0.2881\n",
      "Epoch: 009/010 | Batch 0350/0391 | Cost: 0.3618\n",
      "Epoch: 009/010 | Train: 92.414% |  Loss: 0.243\n",
      "Time elapsed: 18.71 min\n",
      "Epoch: 010/010 | Batch 0000/0391 | Cost: 0.1548\n",
      "Epoch: 010/010 | Batch 0050/0391 | Cost: 0.1349\n",
      "Epoch: 010/010 | Batch 0100/0391 | Cost: 0.2574\n",
      "Epoch: 010/010 | Batch 0150/0391 | Cost: 0.2039\n",
      "Epoch: 010/010 | Batch 0200/0391 | Cost: 0.2310\n",
      "Epoch: 010/010 | Batch 0250/0391 | Cost: 0.2380\n",
      "Epoch: 010/010 | Batch 0300/0391 | Cost: 0.2648\n",
      "Epoch: 010/010 | Batch 0350/0391 | Cost: 0.2674\n",
      "Epoch: 010/010 | Train: 95.656% |  Loss: 0.141\n",
      "Time elapsed: 20.77 min\n",
      "Total Training Time: 20.77 min\n"
     ]
    }
   ],
   "source": [
    "def compute_accuracy(model, data_loader):\n",
    "    model.eval()\n",
    "    correct_pred, num_examples = 0, 0\n",
    "    for i, (features, targets) in enumerate(data_loader):\n",
    "            \n",
    "        features = features.to(DEVICE)\n",
    "        targets = targets.to(DEVICE)\n",
    "\n",
    "        logits, probas = model(features)\n",
    "        _, predicted_labels = torch.max(probas, 1)\n",
    "        num_examples += targets.size(0)\n",
    "        correct_pred += (predicted_labels == targets).sum()\n",
    "    return correct_pred.float()/num_examples * 100\n",
    "\n",
    "\n",
    "def compute_epoch_loss(model, data_loader):\n",
    "    model.eval()\n",
    "    curr_loss, num_examples = 0., 0\n",
    "    with torch.no_grad():\n",
    "        for features, targets in data_loader:\n",
    "            features = features.to(DEVICE)\n",
    "            targets = targets.to(DEVICE)\n",
    "            logits, probas = model(features)\n",
    "            loss = F.cross_entropy(logits, targets, reduction='sum')\n",
    "            num_examples += targets.size(0)\n",
    "            curr_loss += loss\n",
    "\n",
    "        curr_loss = curr_loss / num_examples\n",
    "        return curr_loss\n",
    "    \n",
    "total_cost = []\n",
    "total_accuracy = []\n",
    "f = open(\"training_log_vgg_cifar10.txt\", \"w\")    \n",
    "\n",
    "\n",
    "start_time = time.time()\n",
    "for epoch in range(num_epochs):\n",
    "    \n",
    "    model.train()\n",
    "    for batch_idx, (features, targets) in enumerate(train_loader):\n",
    "        \n",
    "        features = features.to(DEVICE)\n",
    "        targets = targets.to(DEVICE)\n",
    "            \n",
    "        ### FORWARD AND BACK PROP\n",
    "        logits, probas = model(features)\n",
    "        cost = F.cross_entropy(logits, targets)\n",
    "        optimizer.zero_grad()\n",
    "        \n",
    "        cost.backward()\n",
    "        \n",
    "        ### UPDATE MODEL PARAMETERS\n",
    "        optimizer.step()\n",
    "        \n",
    "        ### LOGGING\n",
    "        if not batch_idx % 50:\n",
    "            print ('Epoch: %03d/%03d | Batch %04d/%04d | Cost: %.4f' \n",
    "                   %(epoch+1, num_epochs, batch_idx, \n",
    "                     len(train_loader), cost))\n",
    "            f.write('Epoch: %03d/%03d | Batch %04d/%04d | Cost: %.4f\\n' \n",
    "                   %(epoch+1, num_epochs, batch_idx, \n",
    "                     len(train_loader), cost))\n",
    "            f.write('Time elapsed: %.2f min\\n' % ((time.time() - start_time)/60))\n",
    "            total_cost.append(float(compute_epoch_loss(model, train_loader)))\n",
    "            total_accuracy.append(float(compute_accuracy(model, train_loader)))\n",
    "    model.eval()\n",
    "    with torch.set_grad_enabled(False): # save memory during inference\n",
    "        print('Epoch: %03d/%03d | Train: %.3f%% |  Loss: %.3f' % (\n",
    "              epoch+1, num_epochs, \n",
    "              compute_accuracy(model, train_loader),\n",
    "              compute_epoch_loss(model, train_loader)))\n",
    "        f.write('Epoch: %03d/%03d | Train: %.3f%%\\n' % (\n",
    "              epoch+1, num_epochs, \n",
    "              compute_accuracy(model, train_loader)))\n",
    "        f.write(\"------------------------------------\\n\")\n",
    "\n",
    "\n",
    "    print('Time elapsed: %.2f min' % ((time.time() - start_time)/60))\n",
    "    \n",
    "print('Total Training Time: %.2f min' % ((time.time() - start_time)/60))\n",
    "\n",
    "f.close()"
   ]
  },
  {
   "cell_type": "code",
   "execution_count": 5,
   "metadata": {},
   "outputs": [
    {
     "data": {
      "image/png": "[encoded data removed]",
      "text/plain": [
       "<Figure size 640x480 with 1 Axes>"
      ]
     },
     "metadata": {},
     "output_type": "display_data"
    },
    {
     "data": {
      "image/png": "[encoded data removed]",
      "text/plain": [
       "<Figure size 640x480 with 1 Axes>"
      ]
     },
     "metadata": {},
     "output_type": "display_data"
    }
   ],
   "source": [
    "cst = plt.figure()\n",
    "plt.title(\"Cost over Iterations\")\n",
    "plt.xlabel(\"Iterations\")\n",
    "plt.ylabel(\"Cost\")\n",
    "plt.plot(total_cost)\n",
    "plt.savefig(\"cost_graph_vgg_cifar10.png\")\n",
    "\n",
    "acc = plt.figure()\n",
    "plt.title(\"Accuracy\")\n",
    "plt.xlabel(\"Iterations\")\n",
    "plt.ylabel(\"Accuracy\")\n",
    "plt.plot(total_accuracy)\n",
    "plt.savefig(\"acc_graph_vgg_cifar10.png\")"
   ]
  },
  {
   "cell_type": "markdown",
   "metadata": {
    "colab_type": "text",
    "id": "paaeEQHQj5xC"
   },
   "source": [
    "## Evaluation"
   ]
  },
  {
   "cell_type": "code",
   "execution_count": 6,
   "metadata": {
    "colab": {
     "autoexec": {
      "startup": false,
      "wait_interval": 0
     },
     "base_uri": "https://localhost:8080/",
     "height": 34
    },
    "colab_type": "code",
    "executionInfo": {
     "elapsed": 6514,
     "status": "ok",
     "timestamp": 1524976895054,
     "user": {
      "displayName": "Sebastian Raschka",
      "photoUrl": "//lh6.googleusercontent.com/-cxK6yOSQ6uE/AAAAAAAAAAI/AAAAAAAAIfw/P9ar_CHsKOQ/s50-c-k-no/photo.jpg",
      "userId": "118404394130788869227"
     },
     "user_tz": 240
    },
    "id": "gzQMWKq5j5xE",
    "outputId": "de7dc005-5eeb-4177-9f9f-d9b5d1358db9"
   },
   "outputs": [
    {
     "name": "stdout",
     "output_type": "stream",
     "text": [
      "Test accuracy: 78.57%\n"
     ]
    }
   ],
   "source": [
    "with torch.set_grad_enabled(False): # save memory during inference\n",
    "    print('Test accuracy: %.2f%%' % (compute_accuracy(model, test_loader)))"
   ]
  }
 ],
 "metadata": {
  "accelerator": "GPU",
  "colab": {
   "collapsed_sections": [],
   "default_view": {},
   "name": "convnet-vgg16.ipynb",
   "provenance": [],
   "version": "0.3.2",
   "views": {}
  },
  "kernelspec": {
   "display_name": "Python 3 (ipykernel)",
   "language": "python",
   "name": "python3"
  },
  "language_info": {
   "codemirror_mode": {
    "name": "ipython",
    "version": 3
   },
   "file_extension": ".py",
   "mimetype": "text/x-python",
   "name": "python",
   "nbconvert_exporter": "python",
   "pygments_lexer": "ipython3",
   "version": "3.10.6"
  },
  "toc": {
   "nav_menu": {},
   "number_sections": true,
   "sideBar": true,
   "skip_h1_title": false,
   "title_cell": "Table of Contents",
   "title_sidebar": "Contents",
   "toc_cell": true,
   "toc_position": {
    "height": "calc(100% - 180px)",
    "left": "10px",
    "top": "150px",
    "width": "371px"
   },
   "toc_section_display": true,
   "toc_window_display": true
  }
 },
 "nbformat": 4,
 "nbformat_minor": 4
}
